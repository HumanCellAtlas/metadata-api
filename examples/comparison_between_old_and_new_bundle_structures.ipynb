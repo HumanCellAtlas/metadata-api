{
 "cells": [
  {
   "cell_type": "markdown",
   "metadata": {},
   "source": [
    "## Comparison between old and new bundle structures"
   ]
  },
  {
   "cell_type": "markdown",
   "metadata": {},
   "source": [
    "### Set up"
   ]
  },
  {
   "cell_type": "code",
   "execution_count": null,
   "metadata": {},
   "outputs": [],
   "source": [
    "from humancellatlas.data.metadata.helpers.dss import download_bundle_metadata, dss_client\n",
    "from humancellatlas.data.metadata.api import Bundle\n",
    "from humancellatlas.data.metadata.helpers.json import as_json"
   ]
  },
  {
   "cell_type": "code",
   "execution_count": 3,
   "metadata": {},
   "outputs": [],
   "source": [
    "OLD_BUNDLE_UUID = 'b2216048-7eaa-45f4-8077-5a3fb4204953'\n",
    "NEW_BUNDLE_UUID = '1e276fdd-d885-4a18-b5b8-df33f1347c1a'"
   ]
  },
  {
   "cell_type": "code",
   "execution_count": 4,
   "metadata": {},
   "outputs": [],
   "source": [
    "old_client = dss_client()  # Create a default dss cient\n",
    "old_version, old_manifest, old_metadata_files = download_bundle_metadata(old_client, 'aws', OLD_BUNDLE_UUID)"
   ]
  },
  {
   "cell_type": "code",
   "execution_count": 5,
   "metadata": {},
   "outputs": [],
   "source": [
    "new_client = dss_client('integration')  # Create a dss client aginst integration\n",
    "new_version, new_manifest, new_metadata_files = download_bundle_metadata(new_client, 'aws', NEW_BUNDLE_UUID)"
   ]
  },
  {
   "cell_type": "markdown",
   "metadata": {},
   "source": [
    "### Comparison"
   ]
  },
  {
   "cell_type": "code",
   "execution_count": 6,
   "metadata": {},
   "outputs": [
    {
     "name": "stdout",
     "output_type": "stream",
     "text": [
      "[Old bundle structure] number of files in bundle: 8\n",
      "[New bundle structure] number of files in bundle: 16\n"
     ]
    }
   ],
   "source": [
    "print(f'[Old bundle structure] number of files in bundle: {len(old_manifest)}')\n",
    "print(f'[New bundle structure] number of files in bundle: {len(new_manifest)}')"
   ]
  },
  {
   "cell_type": "code",
   "execution_count": 8,
   "metadata": {},
   "outputs": [
    {
     "name": "stdout",
     "output_type": "stream",
     "text": [
      "[Old bundle structure]\n",
      "project.json\n",
      "biomaterial.json\n",
      "22011_1#268_1.fastq.gz\n",
      "22011_1#268_2.fastq.gz\n",
      "file.json\n",
      "process.json\n",
      "protocol.json\n",
      "links.json\n",
      "--------------------\n",
      "[New bundle structure1]\n",
      "cell_suspension_0.json\n",
      "specimen_from_organism_0.json\n",
      "donor_organism_0.json\n",
      "sequence_file_0.json\n",
      "sequence_file_1.json\n",
      "project_0.json\n",
      "library_preparation_protocol_0.json\n",
      "sequencing_protocol_0.json\n",
      "dissociation_protocol_0.json\n",
      "enrichment_protocol_0.json\n",
      "process_0.json\n",
      "process_1.json\n",
      "process_2.json\n",
      "links.json\n",
      "R1.fastq.gz\n",
      "R2.fastq.gz\n"
     ]
    }
   ],
   "source": [
    "print(f'[Old bundle structure]')\n",
    "for file in old_manifest:\n",
    "    print(f'{file[\"name\"]}')\n",
    "\n",
    "print('-' * 20)\n",
    "          \n",
    "print(f'[New bundle structure1]')\n",
    "for file in new_manifest:\n",
    "    print(f'{file[\"name\"]}')"
   ]
  }
 ],
 "metadata": {
  "kernelspec": {
   "display_name": "Python 3",
   "language": "python",
   "name": "python3"
  },
  "language_info": {
   "codemirror_mode": {
    "name": "ipython",
    "version": 3
   },
   "file_extension": ".py",
   "mimetype": "text/x-python",
   "name": "python",
   "nbconvert_exporter": "python",
   "pygments_lexer": "ipython3",
   "version": "3.6.3"
  }
 },
 "nbformat": 4,
 "nbformat_minor": 2
}
