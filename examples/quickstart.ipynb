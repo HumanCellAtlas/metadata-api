{
 "cells": [
  {
   "cell_type": "markdown",
   "metadata": {},
   "source": [
    "## A simple example to work with the metadata"
   ]
  },
  {
   "cell_type": "code",
   "execution_count": null,
   "metadata": {},
   "outputs": [],
   "source": [
    "from humancellatlas.data.metadata.helpers.dss import download_bundle_metadata, dss_client\n",
    "from humancellatlas.data.metadata.api import Bundle\n",
    "from humancellatlas.data.metadata.helpers.json import as_json\n",
    "from humancellatlas.data.metadata.api import EntityVisitor\n",
    "\n",
    "import json"
   ]
  },
  {
   "cell_type": "code",
   "execution_count": null,
   "metadata": {},
   "outputs": [],
   "source": [
    "BUNDLE_UUID = 'b2216048-7eaa-45f4-8077-5a3fb4204953'"
   ]
  },
  {
   "cell_type": "code",
   "execution_count": null,
   "metadata": {},
   "outputs": [],
   "source": [
    "client = dss_client()  # Create a default dss cient\n",
    "version, manifest, metadata_files = download_bundle_metadata(client, 'aws', BUNDLE_UUID)"
   ]
  },
  {
   "cell_type": "markdown",
   "metadata": {},
   "source": [
    "### Assmble Bundle objects from the metadata"
   ]
  },
  {
   "cell_type": "code",
   "execution_count": null,
   "metadata": {},
   "outputs": [],
   "source": [
    "bundle = Bundle(BUNDLE_UUID, version, manifest, metadata_files)"
   ]
  },
  {
   "cell_type": "markdown",
   "metadata": {},
   "source": [
    "### View Structure"
   ]
  },
  {
   "cell_type": "code",
   "execution_count": null,
   "metadata": {},
   "outputs": [],
   "source": [
    "print(bundle)"
   ]
  },
  {
   "cell_type": "markdown",
   "metadata": {},
   "source": [
    "### Dump to JSON"
   ]
  },
  {
   "cell_type": "code",
   "execution_count": null,
   "metadata": {},
   "outputs": [],
   "source": [
    "print(json.dumps(as_json(bundle) , indent=4))"
   ]
  },
  {
   "cell_type": "markdown",
   "metadata": {},
   "source": [
    "### Access specific properties"
   ]
  },
  {
   "cell_type": "code",
   "execution_count": null,
   "metadata": {},
   "outputs": [],
   "source": [
    "root_entities = bundle.root_entities()\n",
    "donor = next(iter(root_entities.values()))\n",
    "\n",
    "print(f'biological_sex: {donor.biological_sex}')\n",
    "print(f'no input_biomaterial: {not donor.has_input_biomaterial}')\n",
    "print(f'organism_age, organism_age_unit: {donor.organism_age, donor.organism_age_unit}')\n",
    "print(f'organism_age_in_seconds: {donor.organism_age_in_seconds}')\n",
    "\n",
    "print(f'sequencing_input_id: {[b.document_id for b in bundle.sequencing_input]}')\n",
    "print(f'sequencing_output: {[b.manifest_entry.name for b in bundle.sequencing_output]}')"
   ]
  },
  {
   "cell_type": "markdown",
   "metadata": {},
   "source": [
    "### Traverse all properties"
   ]
  },
  {
   "cell_type": "code",
   "execution_count": null,
   "metadata": {},
   "outputs": [],
   "source": [
    "class MyVisitor(EntityVisitor):\n",
    "    def visit(self, entity):\n",
    "        print(type(entity).__name__,'@',entity.document_id)\n",
    "donor.accept(MyVisitor())"
   ]
  }
 ],
 "metadata": {
  "kernelspec": {
   "display_name": "Python 3",
   "language": "python",
   "name": "python3"
  },
  "language_info": {
   "codemirror_mode": {
    "name": "ipython",
    "version": 3
   },
   "file_extension": ".py",
   "mimetype": "text/x-python",
   "name": "python",
   "nbconvert_exporter": "python",
   "pygments_lexer": "ipython3",
   "version": "3.6.3"
  }
 },
 "nbformat": 4,
 "nbformat_minor": 2
}
