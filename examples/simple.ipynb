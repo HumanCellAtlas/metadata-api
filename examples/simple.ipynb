{
 "cells": [
  {
   "cell_type": "code",
   "execution_count": null,
   "metadata": {},
   "outputs": [],
   "source": [
    "from humancellatlas.data.metadata.helpers.dss import download_bundle_metadata, dss_client\n",
    "client = dss_client()\n",
    "uuid = \"b2216048-7eaa-45f4-8077-5a3fb4204953\"\n",
    "version, manifest, metadata_files = download_bundle_metadata(client, 'aws', uuid)\n",
    "manifest[0]"
   ]
  },
  {
   "cell_type": "code",
   "execution_count": null,
   "metadata": {},
   "outputs": [],
   "source": [
    "from humancellatlas.data.metadata import Bundle\n",
    "bundle = Bundle(uuid, version, manifest, metadata_files)\n",
    "bundle"
   ]
  },
  {
   "cell_type": "code",
   "execution_count": null,
   "metadata": {},
   "outputs": [],
   "source": [
    "import json\n",
    "from humancellatlas.data.metadata.helpers.json import as_json\n",
    "print(json.dumps(as_json(bundle), indent=4))"
   ]
  },
  {
   "cell_type": "code",
   "execution_count": null,
   "metadata": {},
   "outputs": [],
   "source": [
    "root_entities = bundle.root_entities()\n",
    "donor = next(iter(root_entities.values()))"
   ]
  },
  {
   "cell_type": "code",
   "execution_count": null,
   "metadata": {},
   "outputs": [],
   "source": [
    "donor.biological_sex"
   ]
  },
  {
   "cell_type": "code",
   "execution_count": null,
   "metadata": {},
   "outputs": [],
   "source": [
    "donor.has_input_biomaterial is None"
   ]
  },
  {
   "cell_type": "code",
   "execution_count": null,
   "metadata": {},
   "outputs": [],
   "source": [
    "donor.organism_age, donor.organism_age_unit"
   ]
  },
  {
   "cell_type": "code",
   "execution_count": null,
   "metadata": {},
   "outputs": [],
   "source": [
    "donor.organism_age_in_seconds"
   ]
  },
  {
   "cell_type": "code",
   "execution_count": null,
   "metadata": {},
   "outputs": [],
   "source": [
    "from humancellatlas.data.metadata import EntityVisitor\n",
    "class MyVisitor(EntityVisitor):\n",
    "    def visit(self, entity):\n",
    "        print(type(entity).__name__,'@',entity.document_id)\n",
    "donor.accept(MyVisitor())"
   ]
  },
  {
   "cell_type": "code",
   "execution_count": null,
   "metadata": {},
   "outputs": [],
   "source": []
  }
 ],
 "metadata": {
  "kernelspec": {
   "display_name": "Python 3",
   "language": "python",
   "name": "python3"
  },
  "language_info": {
   "codemirror_mode": {
    "name": "ipython",
    "version": 3
   },
   "file_extension": ".py",
   "mimetype": "text/x-python",
   "name": "python",
   "nbconvert_exporter": "python",
   "pygments_lexer": "ipython3",
   "version": "3.6.5"
  }
 },
 "nbformat": 4,
 "nbformat_minor": 2
}
